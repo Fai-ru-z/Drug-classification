{
 "cells": [
  {
   "cell_type": "markdown",
   "id": "d892336c",
   "metadata": {
    "papermill": {
     "duration": 0.009217,
     "end_time": "2025-07-17T11:55:38.766227",
     "exception": false,
     "start_time": "2025-07-17T11:55:38.757010",
     "status": "completed"
    },
    "tags": []
   },
   "source": [
    "# 1- Introduction"
   ]
  },
  {
   "cell_type": "markdown",
   "id": "d9486b32",
   "metadata": {
    "papermill": {
     "duration": 0.007412,
     "end_time": "2025-07-17T11:55:38.781606",
     "exception": false,
     "start_time": "2025-07-17T11:55:38.774194",
     "status": "completed"
    },
    "tags": []
   },
   "source": [
    "## 🧪 Drug Classification – Multiple ML Models & Scalers\n",
    "\n",
    "## 📌 Overview:\n",
    "\n",
    "This project tackles a **drug classification problem** using a real-world dataset. The goal is to predict the most suitable **type of drug** for a patient based on several medical features.\n",
    "\n",
    "The task is approached using **multiple machine learning models** and **different feature scaling techniques**, allowing us to identify the best combination for optimal performance.\n",
    "\n",
    "---\n",
    "\n",
    "## 📁 Dataset Description:\n",
    "\n",
    "The dataset includes the following columns:\n",
    "\n",
    "| Feature       | Description                                     |\n",
    "| ------------- | ----------------------------------------------- |\n",
    "| `Age`         | Patient's age (categorical)                     |\n",
    "| `Sex`         | Gender (Male/Female)                            |\n",
    "| `BP`          | Blood pressure level (LOW, NORMAL, HIGH)        |\n",
    "| `Cholesterol` | Cholesterol level (NORMAL, HIGH)                |\n",
    "| `Na_to_K`     | Sodium-to-potassium ratio (numerical)           |\n",
    "| `Drug`        | **Target label** — Type of drug (A, B, C, X, Y) |\n",
    "\n",
    "📌 Dataset Source: [Drug Classification | Kaggle](https://www.kaggle.com/datasets/prathamtripathi/drug-classification)\n",
    "\n",
    "---\n",
    "\n",
    "## 🔍 Exploratory Data Analysis (EDA):\n",
    "\n",
    "* Initial inspection using `.head()`, `.info()`, and `.describe()`\n",
    "* Count plots for categorical features (`Sex`, `BP`, `Cholesterol`)\n",
    "* Boxplots to analyze how `Na_to_K` varies across drug types\n",
    "* Observations show a strong relationship between `Na_to_K` and the `Drug` class\n",
    "\n",
    "---\n",
    "\n",
    "## 🛠️ Preprocessing:\n",
    "\n",
    "* Encoding `Age` (category → code)\n",
    "* Label encoding of categorical features: `Sex`, `BP`, `Cholesterol`\n",
    "* Separation of features (`X`) and target (`y`)\n",
    "\n",
    "---\n",
    "\n",
    "## ⚖️ Feature Scaling Techniques Applied:\n",
    "\n",
    "To test the effect of feature scaling, the following scalers were applied individually:\n",
    "\n",
    "| Scaler Type      | Description                         |\n",
    "| ---------------- | ----------------------------------- |\n",
    "| `StandardScaler` | Z-score normalization               |\n",
    "| `MinMaxScaler`   | Scales values to \\[0, 1]            |\n",
    "| `RobustScaler`   | Scales using IQR (handles outliers) |\n",
    "| `MaxAbsScaler`   | Scales based on max absolute value  |\n",
    "\n",
    "---\n",
    "\n",
    "## 🤖 ML Models Trained:\n",
    "\n",
    "Several classification models were trained and compared:\n",
    "\n",
    "| Model                          | Description                      |\n",
    "| ------------------------------ | -------------------------------- |\n",
    "| `Logistic Regression`          | Linear model for classification  |\n",
    "| `K-Nearest Neighbors`          | Distance-based classifier        |\n",
    "| `Support Vector Machine (SVM)` | Maximizes margin between classes |\n",
    "| `Decision Tree`                | Tree-based, interpretable model  |\n",
    "\n",
    "---\n",
    "\n",
    "## 🧪 Evaluation:\n",
    "\n",
    "Each model + scaler combination was evaluated using:\n",
    "\n",
    "* **Accuracy**\n",
    "* **Precision**\n",
    "* **Recall**\n",
    "* **F1-Score**\n",
    "\n",
    "📊 The best performing models were further analyzed using a **classification report** and **confusion matrix**.\n",
    "\n",
    "---\n",
    "\n",
    "## 🏆 Best Result:\n",
    "\n",
    "* **Best Model:** *e.g.,* `SVM`\n",
    "* **Best Scaler:** *e.g.,* `StandardScaler`\n",
    "* **F1-Score:** *e.g.,* 0.91"
   ]
  },
  {
   "cell_type": "markdown",
   "id": "138cef2c",
   "metadata": {
    "papermill": {
     "duration": 0.008145,
     "end_time": "2025-07-17T11:55:38.797328",
     "exception": false,
     "start_time": "2025-07-17T11:55:38.789183",
     "status": "completed"
    },
    "tags": []
   },
   "source": [
    "# 2- Import libraries"
   ]
  },
  {
   "cell_type": "code",
   "execution_count": 34,
   "id": "051e3524",
   "metadata": {
    "papermill": {
     "duration": 3.94136,
     "end_time": "2025-07-17T11:55:42.746294",
     "exception": false,
     "start_time": "2025-07-17T11:55:38.804934",
     "status": "completed"
    },
    "tags": []
   },
   "outputs": [],
   "source": [
    "import pandas as pd\n",
    "import numpy as np\n",
    "import matplotlib.pyplot as plt\n",
    "import seaborn as sns"
   ]
  },
  {
   "cell_type": "markdown",
   "id": "cc1582d6",
   "metadata": {
    "papermill": {
     "duration": 0.007846,
     "end_time": "2025-07-17T11:55:42.762165",
     "exception": false,
     "start_time": "2025-07-17T11:55:42.754319",
     "status": "completed"
    },
    "tags": []
   },
   "source": [
    "# 3- Import data"
   ]
  },
  {
   "cell_type": "code",
   "execution_count": 35,
   "id": "820013d2",
   "metadata": {
    "papermill": {
     "duration": 0.031909,
     "end_time": "2025-07-17T11:55:42.801960",
     "exception": false,
     "start_time": "2025-07-17T11:55:42.770051",
     "status": "completed"
    },
    "tags": []
   },
   "outputs": [],
   "source": [
    "df = pd.read_csv(\"drug200.csv\")"
   ]
  },
  {
   "cell_type": "code",
   "execution_count": 36,
   "id": "7cf7b8a8",
   "metadata": {
    "papermill": {
     "duration": 0.036221,
     "end_time": "2025-07-17T11:55:42.846198",
     "exception": false,
     "start_time": "2025-07-17T11:55:42.809977",
     "status": "completed"
    },
    "tags": []
   },
   "outputs": [
    {
     "data": {
      "text/html": [
       "<div>\n",
       "<style scoped>\n",
       "    .dataframe tbody tr th:only-of-type {\n",
       "        vertical-align: middle;\n",
       "    }\n",
       "\n",
       "    .dataframe tbody tr th {\n",
       "        vertical-align: top;\n",
       "    }\n",
       "\n",
       "    .dataframe thead th {\n",
       "        text-align: right;\n",
       "    }\n",
       "</style>\n",
       "<table border=\"1\" class=\"dataframe\">\n",
       "  <thead>\n",
       "    <tr style=\"text-align: right;\">\n",
       "      <th></th>\n",
       "      <th>Age</th>\n",
       "      <th>Sex</th>\n",
       "      <th>BP</th>\n",
       "      <th>Cholesterol</th>\n",
       "      <th>Na_to_K</th>\n",
       "      <th>Drug</th>\n",
       "    </tr>\n",
       "  </thead>\n",
       "  <tbody>\n",
       "    <tr>\n",
       "      <th>0</th>\n",
       "      <td>23</td>\n",
       "      <td>F</td>\n",
       "      <td>HIGH</td>\n",
       "      <td>HIGH</td>\n",
       "      <td>25.355</td>\n",
       "      <td>DrugY</td>\n",
       "    </tr>\n",
       "    <tr>\n",
       "      <th>1</th>\n",
       "      <td>47</td>\n",
       "      <td>M</td>\n",
       "      <td>LOW</td>\n",
       "      <td>HIGH</td>\n",
       "      <td>13.093</td>\n",
       "      <td>drugC</td>\n",
       "    </tr>\n",
       "    <tr>\n",
       "      <th>2</th>\n",
       "      <td>47</td>\n",
       "      <td>M</td>\n",
       "      <td>LOW</td>\n",
       "      <td>HIGH</td>\n",
       "      <td>10.114</td>\n",
       "      <td>drugC</td>\n",
       "    </tr>\n",
       "    <tr>\n",
       "      <th>3</th>\n",
       "      <td>28</td>\n",
       "      <td>F</td>\n",
       "      <td>NORMAL</td>\n",
       "      <td>HIGH</td>\n",
       "      <td>7.798</td>\n",
       "      <td>drugX</td>\n",
       "    </tr>\n",
       "    <tr>\n",
       "      <th>4</th>\n",
       "      <td>61</td>\n",
       "      <td>F</td>\n",
       "      <td>LOW</td>\n",
       "      <td>HIGH</td>\n",
       "      <td>18.043</td>\n",
       "      <td>DrugY</td>\n",
       "    </tr>\n",
       "    <tr>\n",
       "      <th>5</th>\n",
       "      <td>22</td>\n",
       "      <td>F</td>\n",
       "      <td>NORMAL</td>\n",
       "      <td>HIGH</td>\n",
       "      <td>8.607</td>\n",
       "      <td>drugX</td>\n",
       "    </tr>\n",
       "    <tr>\n",
       "      <th>6</th>\n",
       "      <td>49</td>\n",
       "      <td>F</td>\n",
       "      <td>NORMAL</td>\n",
       "      <td>HIGH</td>\n",
       "      <td>16.275</td>\n",
       "      <td>DrugY</td>\n",
       "    </tr>\n",
       "    <tr>\n",
       "      <th>7</th>\n",
       "      <td>41</td>\n",
       "      <td>M</td>\n",
       "      <td>LOW</td>\n",
       "      <td>HIGH</td>\n",
       "      <td>11.037</td>\n",
       "      <td>drugC</td>\n",
       "    </tr>\n",
       "    <tr>\n",
       "      <th>8</th>\n",
       "      <td>60</td>\n",
       "      <td>M</td>\n",
       "      <td>NORMAL</td>\n",
       "      <td>HIGH</td>\n",
       "      <td>15.171</td>\n",
       "      <td>DrugY</td>\n",
       "    </tr>\n",
       "    <tr>\n",
       "      <th>9</th>\n",
       "      <td>43</td>\n",
       "      <td>M</td>\n",
       "      <td>LOW</td>\n",
       "      <td>NORMAL</td>\n",
       "      <td>19.368</td>\n",
       "      <td>DrugY</td>\n",
       "    </tr>\n",
       "  </tbody>\n",
       "</table>\n",
       "</div>"
      ],
      "text/plain": [
       "   Age Sex      BP Cholesterol  Na_to_K   Drug\n",
       "0   23   F    HIGH        HIGH   25.355  DrugY\n",
       "1   47   M     LOW        HIGH   13.093  drugC\n",
       "2   47   M     LOW        HIGH   10.114  drugC\n",
       "3   28   F  NORMAL        HIGH    7.798  drugX\n",
       "4   61   F     LOW        HIGH   18.043  DrugY\n",
       "5   22   F  NORMAL        HIGH    8.607  drugX\n",
       "6   49   F  NORMAL        HIGH   16.275  DrugY\n",
       "7   41   M     LOW        HIGH   11.037  drugC\n",
       "8   60   M  NORMAL        HIGH   15.171  DrugY\n",
       "9   43   M     LOW      NORMAL   19.368  DrugY"
      ]
     },
     "execution_count": 36,
     "metadata": {},
     "output_type": "execute_result"
    }
   ],
   "source": [
    "# Show first 10 lines in data\n",
    "df.head(10)"
   ]
  },
  {
   "cell_type": "markdown",
   "id": "183cfc21",
   "metadata": {
    "papermill": {
     "duration": 0.007613,
     "end_time": "2025-07-17T11:55:42.861806",
     "exception": false,
     "start_time": "2025-07-17T11:55:42.854193",
     "status": "completed"
    },
    "tags": []
   },
   "source": [
    "# 4- Expolratory Data Analysis ''EDA''"
   ]
  },
  {
   "cell_type": "markdown",
   "id": "6efad5a8",
   "metadata": {
    "papermill": {
     "duration": 0.007651,
     "end_time": "2025-07-17T11:55:42.877321",
     "exception": false,
     "start_time": "2025-07-17T11:55:42.869670",
     "status": "completed"
    },
    "tags": []
   },
   "source": [
    "## Dataset Info"
   ]
  },
  {
   "cell_type": "code",
   "execution_count": 5,
   "id": "75496187",
   "metadata": {
    "papermill": {
     "duration": 0.037295,
     "end_time": "2025-07-17T11:55:42.922325",
     "exception": false,
     "start_time": "2025-07-17T11:55:42.885030",
     "status": "completed"
    },
    "tags": []
   },
   "outputs": [
    {
     "name": "stdout",
     "output_type": "stream",
     "text": [
      "<class 'pandas.core.frame.DataFrame'>\n",
      "RangeIndex: 200 entries, 0 to 199\n",
      "Data columns (total 6 columns):\n",
      " #   Column       Non-Null Count  Dtype  \n",
      "---  ------       --------------  -----  \n",
      " 0   Age          200 non-null    int64  \n",
      " 1   Sex          200 non-null    object \n",
      " 2   BP           200 non-null    object \n",
      " 3   Cholesterol  200 non-null    object \n",
      " 4   Na_to_K      200 non-null    float64\n",
      " 5   Drug         200 non-null    object \n",
      "dtypes: float64(1), int64(1), object(4)\n",
      "memory usage: 9.5+ KB\n"
     ]
    }
   ],
   "source": [
    "# Show information\n",
    "df.info()"
   ]
  },
  {
   "cell_type": "markdown",
   "id": "52c11c40",
   "metadata": {
    "papermill": {
     "duration": 0.00776,
     "end_time": "2025-07-17T11:55:42.938135",
     "exception": false,
     "start_time": "2025-07-17T11:55:42.930375",
     "status": "completed"
    },
    "tags": []
   },
   "source": [
    "## Descriptive Statistics"
   ]
  },
  {
   "cell_type": "code",
   "execution_count": 6,
   "id": "11ec0513",
   "metadata": {
    "papermill": {
     "duration": 0.041931,
     "end_time": "2025-07-17T11:55:42.987954",
     "exception": false,
     "start_time": "2025-07-17T11:55:42.946023",
     "status": "completed"
    },
    "tags": []
   },
   "outputs": [
    {
     "data": {
      "text/html": [
       "<div>\n",
       "<style scoped>\n",
       "    .dataframe tbody tr th:only-of-type {\n",
       "        vertical-align: middle;\n",
       "    }\n",
       "\n",
       "    .dataframe tbody tr th {\n",
       "        vertical-align: top;\n",
       "    }\n",
       "\n",
       "    .dataframe thead th {\n",
       "        text-align: right;\n",
       "    }\n",
       "</style>\n",
       "<table border=\"1\" class=\"dataframe\">\n",
       "  <thead>\n",
       "    <tr style=\"text-align: right;\">\n",
       "      <th></th>\n",
       "      <th>Age</th>\n",
       "      <th>Sex</th>\n",
       "      <th>BP</th>\n",
       "      <th>Cholesterol</th>\n",
       "      <th>Na_to_K</th>\n",
       "      <th>Drug</th>\n",
       "    </tr>\n",
       "  </thead>\n",
       "  <tbody>\n",
       "    <tr>\n",
       "      <th>count</th>\n",
       "      <td>200.000000</td>\n",
       "      <td>200</td>\n",
       "      <td>200</td>\n",
       "      <td>200</td>\n",
       "      <td>200.000000</td>\n",
       "      <td>200</td>\n",
       "    </tr>\n",
       "    <tr>\n",
       "      <th>unique</th>\n",
       "      <td>NaN</td>\n",
       "      <td>2</td>\n",
       "      <td>3</td>\n",
       "      <td>2</td>\n",
       "      <td>NaN</td>\n",
       "      <td>5</td>\n",
       "    </tr>\n",
       "    <tr>\n",
       "      <th>top</th>\n",
       "      <td>NaN</td>\n",
       "      <td>M</td>\n",
       "      <td>HIGH</td>\n",
       "      <td>HIGH</td>\n",
       "      <td>NaN</td>\n",
       "      <td>DrugY</td>\n",
       "    </tr>\n",
       "    <tr>\n",
       "      <th>freq</th>\n",
       "      <td>NaN</td>\n",
       "      <td>104</td>\n",
       "      <td>77</td>\n",
       "      <td>103</td>\n",
       "      <td>NaN</td>\n",
       "      <td>91</td>\n",
       "    </tr>\n",
       "    <tr>\n",
       "      <th>mean</th>\n",
       "      <td>44.315000</td>\n",
       "      <td>NaN</td>\n",
       "      <td>NaN</td>\n",
       "      <td>NaN</td>\n",
       "      <td>16.084485</td>\n",
       "      <td>NaN</td>\n",
       "    </tr>\n",
       "    <tr>\n",
       "      <th>std</th>\n",
       "      <td>16.544315</td>\n",
       "      <td>NaN</td>\n",
       "      <td>NaN</td>\n",
       "      <td>NaN</td>\n",
       "      <td>7.223956</td>\n",
       "      <td>NaN</td>\n",
       "    </tr>\n",
       "    <tr>\n",
       "      <th>min</th>\n",
       "      <td>15.000000</td>\n",
       "      <td>NaN</td>\n",
       "      <td>NaN</td>\n",
       "      <td>NaN</td>\n",
       "      <td>6.269000</td>\n",
       "      <td>NaN</td>\n",
       "    </tr>\n",
       "    <tr>\n",
       "      <th>25%</th>\n",
       "      <td>31.000000</td>\n",
       "      <td>NaN</td>\n",
       "      <td>NaN</td>\n",
       "      <td>NaN</td>\n",
       "      <td>10.445500</td>\n",
       "      <td>NaN</td>\n",
       "    </tr>\n",
       "    <tr>\n",
       "      <th>50%</th>\n",
       "      <td>45.000000</td>\n",
       "      <td>NaN</td>\n",
       "      <td>NaN</td>\n",
       "      <td>NaN</td>\n",
       "      <td>13.936500</td>\n",
       "      <td>NaN</td>\n",
       "    </tr>\n",
       "    <tr>\n",
       "      <th>75%</th>\n",
       "      <td>58.000000</td>\n",
       "      <td>NaN</td>\n",
       "      <td>NaN</td>\n",
       "      <td>NaN</td>\n",
       "      <td>19.380000</td>\n",
       "      <td>NaN</td>\n",
       "    </tr>\n",
       "    <tr>\n",
       "      <th>max</th>\n",
       "      <td>74.000000</td>\n",
       "      <td>NaN</td>\n",
       "      <td>NaN</td>\n",
       "      <td>NaN</td>\n",
       "      <td>38.247000</td>\n",
       "      <td>NaN</td>\n",
       "    </tr>\n",
       "  </tbody>\n",
       "</table>\n",
       "</div>"
      ],
      "text/plain": [
       "               Age  Sex    BP Cholesterol     Na_to_K   Drug\n",
       "count   200.000000  200   200         200  200.000000    200\n",
       "unique         NaN    2     3           2         NaN      5\n",
       "top            NaN    M  HIGH        HIGH         NaN  DrugY\n",
       "freq           NaN  104    77         103         NaN     91\n",
       "mean     44.315000  NaN   NaN         NaN   16.084485    NaN\n",
       "std      16.544315  NaN   NaN         NaN    7.223956    NaN\n",
       "min      15.000000  NaN   NaN         NaN    6.269000    NaN\n",
       "25%      31.000000  NaN   NaN         NaN   10.445500    NaN\n",
       "50%      45.000000  NaN   NaN         NaN   13.936500    NaN\n",
       "75%      58.000000  NaN   NaN         NaN   19.380000    NaN\n",
       "max      74.000000  NaN   NaN         NaN   38.247000    NaN"
      ]
     },
     "execution_count": 6,
     "metadata": {},
     "output_type": "execute_result"
    }
   ],
   "source": [
    "# Statistical information\n",
    "df.describe(include = 'all')"
   ]
  },
  {
   "cell_type": "markdown",
   "id": "0c023df9",
   "metadata": {
    "papermill": {
     "duration": 0.007685,
     "end_time": "2025-07-17T11:55:43.003824",
     "exception": false,
     "start_time": "2025-07-17T11:55:42.996139",
     "status": "completed"
    },
    "tags": []
   },
   "source": [
    "## Drug Count by Gender"
   ]
  },
  {
   "cell_type": "code",
   "execution_count": 7,
   "id": "c9f2db22",
   "metadata": {
    "papermill": {
     "duration": 0.021863,
     "end_time": "2025-07-17T11:55:43.033644",
     "exception": false,
     "start_time": "2025-07-17T11:55:43.011781",
     "status": "completed"
    },
    "tags": []
   },
   "outputs": [
    {
     "data": {
      "text/plain": [
       "Sex  Drug \n",
       "F    DrugY    47\n",
       "     drugX    27\n",
       "     drugA     9\n",
       "     drugC     7\n",
       "     drugB     6\n",
       "M    DrugY    44\n",
       "     drugX    27\n",
       "     drugA    14\n",
       "     drugB    10\n",
       "     drugC     9\n",
       "Name: count, dtype: int64"
      ]
     },
     "execution_count": 7,
     "metadata": {},
     "output_type": "execute_result"
    }
   ],
   "source": [
    "df.groupby('Sex')['Drug'].value_counts()"
   ]
  },
  {
   "cell_type": "markdown",
   "id": "083ab490",
   "metadata": {
    "papermill": {
     "duration": 0.007883,
     "end_time": "2025-07-17T11:55:43.049735",
     "exception": false,
     "start_time": "2025-07-17T11:55:43.041852",
     "status": "completed"
    },
    "tags": []
   },
   "source": [
    "## **Grouping Sex & Cholesterol by Drug**"
   ]
  },
  {
   "cell_type": "code",
   "execution_count": 8,
   "id": "e5e71851",
   "metadata": {
    "papermill": {
     "duration": 0.020925,
     "end_time": "2025-07-17T11:55:43.148143",
     "exception": false,
     "start_time": "2025-07-17T11:55:43.127218",
     "status": "completed"
    },
    "tags": []
   },
   "outputs": [
    {
     "data": {
      "text/plain": [
       "Sex  Cholesterol  Drug \n",
       "F    HIGH         DrugY    22\n",
       "                  drugX    12\n",
       "                  drugC     7\n",
       "                  drugA     6\n",
       "                  drugB     2\n",
       "     NORMAL       DrugY    25\n",
       "                  drugX    15\n",
       "                  drugB     4\n",
       "                  drugA     3\n",
       "M    HIGH         DrugY    25\n",
       "                  drugC     9\n",
       "                  drugX     8\n",
       "                  drugA     6\n",
       "                  drugB     6\n",
       "     NORMAL       DrugY    19\n",
       "                  drugX    19\n",
       "                  drugA     8\n",
       "                  drugB     4\n",
       "Name: count, dtype: int64"
      ]
     },
     "execution_count": 8,
     "metadata": {},
     "output_type": "execute_result"
    }
   ],
   "source": [
    "df.groupby(['Sex','Cholesterol'])['Drug'].value_counts()"
   ]
  },
  {
   "cell_type": "markdown",
   "id": "aab6c5ec",
   "metadata": {
    "papermill": {
     "duration": 0.008193,
     "end_time": "2025-07-17T11:55:43.164969",
     "exception": false,
     "start_time": "2025-07-17T11:55:43.156776",
     "status": "completed"
    },
    "tags": []
   },
   "source": [
    "## Drug Count by Gender, Cholesterol & Blood Pressure"
   ]
  },
  {
   "cell_type": "code",
   "execution_count": 9,
   "id": "71049f97",
   "metadata": {
    "papermill": {
     "duration": 0.02096,
     "end_time": "2025-07-17T11:55:43.194307",
     "exception": false,
     "start_time": "2025-07-17T11:55:43.173347",
     "status": "completed"
    },
    "tags": []
   },
   "outputs": [
    {
     "data": {
      "text/plain": [
       "Sex  Cholesterol  BP      Drug \n",
       "F    HIGH         HIGH    DrugY     9\n",
       "                          drugA     6\n",
       "                          drugB     2\n",
       "                  LOW     DrugY     7\n",
       "                          drugC     7\n",
       "                  NORMAL  drugX    12\n",
       "                          DrugY     6\n",
       "     NORMAL       HIGH    DrugY    14\n",
       "                          drugB     4\n",
       "                          drugA     3\n",
       "                  LOW     drugX     8\n",
       "                          DrugY     6\n",
       "                  NORMAL  drugX     7\n",
       "                          DrugY     5\n",
       "M    HIGH         HIGH    DrugY     6\n",
       "                          drugA     6\n",
       "                          drugB     6\n",
       "                  LOW     drugC     9\n",
       "                          DrugY     8\n",
       "                  NORMAL  DrugY    11\n",
       "                          drugX     8\n",
       "     NORMAL       HIGH    DrugY     9\n",
       "                          drugA     8\n",
       "                          drugB     4\n",
       "                  LOW     drugX    10\n",
       "                          DrugY     9\n",
       "                  NORMAL  drugX     9\n",
       "                          DrugY     1\n",
       "Name: count, dtype: int64"
      ]
     },
     "execution_count": 9,
     "metadata": {},
     "output_type": "execute_result"
    }
   ],
   "source": [
    "df.groupby(['Sex','Cholesterol','BP'])['Drug'].value_counts()"
   ]
  },
  {
   "cell_type": "markdown",
   "id": "dff22725",
   "metadata": {
    "papermill": {
     "duration": 0.008427,
     "end_time": "2025-07-17T11:55:43.211572",
     "exception": false,
     "start_time": "2025-07-17T11:55:43.203145",
     "status": "completed"
    },
    "tags": []
   },
   "source": [
    "## Drug Counts"
   ]
  },
  {
   "cell_type": "code",
   "execution_count": 10,
   "id": "8da0e1f8",
   "metadata": {
    "papermill": {
     "duration": 0.017518,
     "end_time": "2025-07-17T11:55:43.237484",
     "exception": false,
     "start_time": "2025-07-17T11:55:43.219966",
     "status": "completed"
    },
    "tags": []
   },
   "outputs": [
    {
     "data": {
      "text/plain": [
       "Drug\n",
       "DrugY    91\n",
       "drugX    54\n",
       "drugA    23\n",
       "drugC    16\n",
       "drugB    16\n",
       "Name: count, dtype: int64"
      ]
     },
     "execution_count": 10,
     "metadata": {},
     "output_type": "execute_result"
    }
   ],
   "source": [
    "df.Drug.value_counts()"
   ]
  },
  {
   "cell_type": "markdown",
   "id": "b731f3e4",
   "metadata": {
    "papermill": {
     "duration": 0.008603,
     "end_time": "2025-07-17T11:55:43.254928",
     "exception": false,
     "start_time": "2025-07-17T11:55:43.246325",
     "status": "completed"
    },
    "tags": []
   },
   "source": [
    "# 5- EDA Visualization"
   ]
  },
  {
   "cell_type": "markdown",
   "id": "584d8c24",
   "metadata": {
    "papermill": {
     "duration": 0.008374,
     "end_time": "2025-07-17T11:55:43.271806",
     "exception": false,
     "start_time": "2025-07-17T11:55:43.263432",
     "status": "completed"
    },
    "tags": []
   },
   "source": [
    "## **Drug Distribution by Sex, Cholesterol, and BP**"
   ]
  },
  {
   "cell_type": "code",
   "execution_count": 11,
   "id": "1d66434d",
   "metadata": {
    "papermill": {
     "duration": 0.568211,
     "end_time": "2025-07-17T11:55:43.848721",
     "exception": false,
     "start_time": "2025-07-17T11:55:43.280510",
     "status": "completed"
    },
    "tags": []
   },
   "outputs": [
    {
     "data": {
      "image/png": "[encoded data removed]",
      "text/plain": [
       "<Figure size 1400x600 with 1 Axes>"
      ]
     },
     "metadata": {},
     "output_type": "display_data"
    }
   ],
   "source": [
    "grouped = df.groupby(['Sex', 'Cholesterol', 'BP', 'Drug']).size().reset_index(name='Count')\n",
    "\n",
    "grouped['Group'] = grouped['Sex'] + '_' + grouped['Cholesterol'] + '_' + grouped['BP']\n",
    "\n",
    "plt.figure(figsize=(14, 6))\n",
    "for drug in grouped['Drug'].unique():\n",
    "    subset = grouped[grouped['Drug'] == drug]\n",
    "    plt.bar(subset['Group'], subset['Count'], label=drug, alpha=0.7)\n",
    "\n",
    "plt.xticks(rotation=45)\n",
    "plt.xlabel('Group (Sex_Cholesterol_BP)')\n",
    "plt.ylabel('Count')\n",
    "plt.title('Drug distribution by Sex, Cholesterol, and BP')\n",
    "plt.legend()\n",
    "plt.tight_layout()\n",
    "plt.show()\n"
   ]
  },
  {
   "cell_type": "markdown",
   "id": "e82322b2",
   "metadata": {
    "papermill": {
     "duration": 0.009603,
     "end_time": "2025-07-17T11:55:43.869277",
     "exception": false,
     "start_time": "2025-07-17T11:55:43.859674",
     "status": "completed"
    },
    "tags": []
   },
   "source": [
    "## Sex Distribution"
   ]
  },
  {
   "cell_type": "code",
   "execution_count": 11,
   "id": "809dd732",
   "metadata": {
    "execution": {
     "iopub.execute_input": "2025-07-17T11:55:43.890421Z",
     "iopub.status.busy": "2025-07-17T11:55:43.890099Z",
     "iopub.status.idle": "2025-07-17T11:55:44.030040Z",
     "shell.execute_reply": "2025-07-17T11:55:44.029152Z"
    },
    "papermill": {
     "duration": 0.152804,
     "end_time": "2025-07-17T11:55:44.031906",
     "exception": false,
     "start_time": "2025-07-17T11:55:43.879102",
     "status": "completed"
    },
    "tags": []
   },
   "outputs": [
    {
     "data": {
      "image/png": "[encoded data removed]",
      "text/plain": [
       "<Figure size 640x480 with 1 Axes>"
      ]
     },
     "metadata": {},
     "output_type": "display_data"
    }
   ],
   "source": [
    "sex_counts = df.Sex.value_counts()\n",
    "\n",
    "plt.bar(sex_counts.index, sex_counts.values, color=['lightgray', 'salmon'])\n",
    "plt.title('Count of Sex')\n",
    "plt.xlabel('Sex')\n",
    "plt.ylabel('Count')\n",
    "plt.tight_layout()\n",
    "plt.show()"
   ]
  },
  {
   "cell_type": "markdown",
   "id": "55487316",
   "metadata": {
    "papermill": {
     "duration": 0.011285,
     "end_time": "2025-07-17T11:55:44.054093",
     "exception": false,
     "start_time": "2025-07-17T11:55:44.042808",
     "status": "completed"
    },
    "tags": []
   },
   "source": [
    "## Blood Pressure Level Distribution"
   ]
  },
  {
   "cell_type": "code",
   "execution_count": 12,
   "id": "64e28a6a",
   "metadata": {
    "execution": {
     "iopub.execute_input": "2025-07-17T11:55:44.079338Z",
     "iopub.status.busy": "2025-07-17T11:55:44.078723Z",
     "iopub.status.idle": "2025-07-17T11:55:44.245402Z",
     "shell.execute_reply": "2025-07-17T11:55:44.244577Z"
    },
    "papermill": {
     "duration": 0.181405,
     "end_time": "2025-07-17T11:55:44.246786",
     "exception": false,
     "start_time": "2025-07-17T11:55:44.065381",
     "status": "completed"
    },
    "tags": []
   },
   "outputs": [
    {
     "data": {
      "image/png": "[encoded data removed]",
      "text/plain": [
       "<Figure size 640x480 with 1 Axes>"
      ]
     },
     "metadata": {},
     "output_type": "display_data"
    }
   ],
   "source": [
    "Bp_counts = df['BP'].value_counts()\n",
    "\n",
    "plt.bar(Bp_counts.index, Bp_counts.values, color=['lightgreen', 'darkblue','darkred'])\n",
    "plt.title('Count of Blood Pressure Levels')\n",
    "plt.xlabel('Blood Pressure Levels ')\n",
    "plt.ylabel('Count')\n",
    "plt.tight_layout()\n",
    "plt.show()"
   ]
  },
  {
   "cell_type": "markdown",
   "id": "8b8b616e",
   "metadata": {
    "papermill": {
     "duration": 0.011361,
     "end_time": "2025-07-17T11:55:44.270003",
     "exception": false,
     "start_time": "2025-07-17T11:55:44.258642",
     "status": "completed"
    },
    "tags": []
   },
   "source": [
    "## Cholesterol Level Distribution"
   ]
  },
  {
   "cell_type": "code",
   "execution_count": 13,
   "id": "3fe07648",
   "metadata": {
    "execution": {
     "iopub.execute_input": "2025-07-17T11:55:44.294970Z",
     "iopub.status.busy": "2025-07-17T11:55:44.294668Z",
     "iopub.status.idle": "2025-07-17T11:55:44.425693Z",
     "shell.execute_reply": "2025-07-17T11:55:44.424909Z"
    },
    "papermill": {
     "duration": 0.145373,
     "end_time": "2025-07-17T11:55:44.427170",
     "exception": false,
     "start_time": "2025-07-17T11:55:44.281797",
     "status": "completed"
    },
    "tags": []
   },
   "outputs": [
    {
     "data": {
      "image/png": "[encoded data removed]",
      "text/plain": [
       "<Figure size 640x480 with 1 Axes>"
      ]
     },
     "metadata": {},
     "output_type": "display_data"
    }
   ],
   "source": [
    "CholesterolLevelsCount = df.Cholesterol.value_counts()\n",
    "\n",
    "plt.bar(CholesterolLevelsCount.index, CholesterolLevelsCount.values, color= ['skyblue', 'salmon'])\n",
    "plt.title('Counts of Cholesterol Levels')\n",
    "plt.xlabel('Cholesterol levels ')\n",
    "plt.ylabel('Cholesterol Levels Count')\n",
    "plt.show()"
   ]
  },
  {
   "cell_type": "markdown",
   "id": "1f4e725c",
   "metadata": {
    "papermill": {
     "duration": 0.011656,
     "end_time": "2025-07-17T11:55:44.451084",
     "exception": false,
     "start_time": "2025-07-17T11:55:44.439428",
     "status": "completed"
    },
    "tags": []
   },
   "source": [
    "## Drug Type Frequency"
   ]
  },
  {
   "cell_type": "code",
   "execution_count": 14,
   "id": "127e78d9",
   "metadata": {
    "execution": {
     "iopub.execute_input": "2025-07-17T11:55:44.476759Z",
     "iopub.status.busy": "2025-07-17T11:55:44.475982Z",
     "iopub.status.idle": "2025-07-17T11:55:44.629085Z",
     "shell.execute_reply": "2025-07-17T11:55:44.628200Z"
    },
    "papermill": {
     "duration": 0.167604,
     "end_time": "2025-07-17T11:55:44.630642",
     "exception": false,
     "start_time": "2025-07-17T11:55:44.463038",
     "status": "completed"
    },
    "tags": []
   },
   "outputs": [
    {
     "data": {
      "image/png": "[encoded data removed]",
      "text/plain": [
       "<Figure size 640x480 with 1 Axes>"
      ]
     },
     "metadata": {},
     "output_type": "display_data"
    }
   ],
   "source": [
    "drug_count = df.Drug.value_counts()\n",
    "\n",
    "sns.barplot( x= drug_count.index, y= drug_count.values)\n",
    "plt.title('Drug Usage Count')\n",
    "plt.xlabel('Drug Type')\n",
    "plt.ylabel('Drug counts')\n",
    "plt.show()"
   ]
  },
  {
   "cell_type": "markdown",
   "id": "74f9823d",
   "metadata": {
    "papermill": {
     "duration": 0.012424,
     "end_time": "2025-07-17T11:55:44.656061",
     "exception": false,
     "start_time": "2025-07-17T11:55:44.643637",
     "status": "completed"
    },
    "tags": []
   },
   "source": [
    "## Blood Pressure distribution based on Cholesterol"
   ]
  },
  {
   "cell_type": "code",
   "execution_count": 15,
   "id": "471ea34f",
   "metadata": {
    "execution": {
     "iopub.execute_input": "2025-07-17T11:55:44.682986Z",
     "iopub.status.busy": "2025-07-17T11:55:44.682655Z",
     "iopub.status.idle": "2025-07-17T11:55:44.928294Z",
     "shell.execute_reply": "2025-07-17T11:55:44.927450Z"
    },
    "papermill": {
     "duration": 0.261332,
     "end_time": "2025-07-17T11:55:44.929917",
     "exception": false,
     "start_time": "2025-07-17T11:55:44.668585",
     "status": "completed"
    },
    "tags": []
   },
   "outputs": [
    {
     "data": {
      "image/png": "[encoded data removed]",
      "text/plain": [
       "<Figure size 800x500 with 1 Axes>"
      ]
     },
     "metadata": {},
     "output_type": "display_data"
    }
   ],
   "source": [
    "# Crosstab to get counts\n",
    "ct = pd.crosstab(df.BP, df.Cholesterol)\n",
    "\n",
    "# Reset index to prepare for melt\n",
    "ct_reset = ct.reset_index()\n",
    "\n",
    "# Melt the dataframe to long-form for sns\n",
    "df_melted = ct_reset.melt(id_vars='BP', var_name='Cholesterol', value_name='Count')\n",
    "\n",
    "# Plot with seaborn\n",
    "plt.figure(figsize=(8, 5))\n",
    "sns.barplot(data=df_melted, x='BP', y='Count', hue='Cholesterol', palette=['#6929c4', '#1192e8'])\n",
    "\n",
    "plt.title('Blood Pressure distribution based on Cholesterol')\n",
    "plt.xlabel('Blood Pressure')\n",
    "plt.ylabel('Frequency')\n",
    "plt.xticks(rotation=0)\n",
    "plt.legend(title='Cholesterol')\n",
    "plt.tight_layout()\n",
    "plt.show()"
   ]
  },
  {
   "cell_type": "markdown",
   "id": "27e18d7f",
   "metadata": {
    "papermill": {
     "duration": 0.012801,
     "end_time": "2025-07-17T11:55:44.956950",
     "exception": false,
     "start_time": "2025-07-17T11:55:44.944149",
     "status": "completed"
    },
    "tags": []
   },
   "source": [
    "# 6- Data Preprocessing"
   ]
  },
  {
   "cell_type": "markdown",
   "id": "124b8365",
   "metadata": {
    "papermill": {
     "duration": 0.012972,
     "end_time": "2025-07-17T11:55:44.983109",
     "exception": false,
     "start_time": "2025-07-17T11:55:44.970137",
     "status": "completed"
    },
    "tags": []
   },
   "source": [
    "## **Convert Age to categorical data**\n",
    "* young -> less 18 years old\n",
    "* adult -> 19 - 35\n",
    "* middle-aged -> 36 - 50\n",
    "* old -> more than 50"
   ]
  },
  {
   "cell_type": "code",
   "execution_count": 16,
   "id": "3b70d52b",
   "metadata": {
    "execution": {
     "iopub.execute_input": "2025-07-17T11:55:45.011422Z",
     "iopub.status.busy": "2025-07-17T11:55:45.010523Z",
     "iopub.status.idle": "2025-07-17T11:55:45.022234Z",
     "shell.execute_reply": "2025-07-17T11:55:45.021496Z"
    },
    "papermill": {
     "duration": 0.027347,
     "end_time": "2025-07-17T11:55:45.023664",
     "exception": false,
     "start_time": "2025-07-17T11:55:44.996317",
     "status": "completed"
    },
    "tags": []
   },
   "outputs": [],
   "source": [
    "bins = [0 ,18, 36, 51, float('inf')]\n",
    "labels = ['young', 'adult', 'middle-aged', 'old']\n",
    "df.Age = pd.cut(df.Age, bins = bins, labels=labels)"
   ]
  },
  {
   "cell_type": "code",
   "execution_count": 17,
   "id": "72c3a9cc",
   "metadata": {
    "execution": {
     "iopub.execute_input": "2025-07-17T11:55:45.053095Z",
     "iopub.status.busy": "2025-07-17T11:55:45.052794Z",
     "iopub.status.idle": "2025-07-17T11:55:45.059684Z",
     "shell.execute_reply": "2025-07-17T11:55:45.058769Z"
    },
    "papermill": {
     "duration": 0.022854,
     "end_time": "2025-07-17T11:55:45.061104",
     "exception": false,
     "start_time": "2025-07-17T11:55:45.038250",
     "status": "completed"
    },
    "tags": []
   },
   "outputs": [
    {
     "data": {
      "text/plain": [
       "0          adult\n",
       "1    middle-aged\n",
       "2    middle-aged\n",
       "3          adult\n",
       "4            old\n",
       "5          adult\n",
       "6    middle-aged\n",
       "7    middle-aged\n",
       "8            old\n",
       "9    middle-aged\n",
       "Name: Age, dtype: category\n",
       "Categories (4, object): ['young' < 'adult' < 'middle-aged' < 'old']"
      ]
     },
     "execution_count": 17,
     "metadata": {},
     "output_type": "execute_result"
    }
   ],
   "source": [
    "df.Age.head(10)"
   ]
  },
  {
   "cell_type": "code",
   "execution_count": 18,
   "id": "0e71dc3c",
   "metadata": {
    "execution": {
     "iopub.execute_input": "2025-07-17T11:55:45.090985Z",
     "iopub.status.busy": "2025-07-17T11:55:45.090700Z",
     "iopub.status.idle": "2025-07-17T11:55:45.102610Z",
     "shell.execute_reply": "2025-07-17T11:55:45.101581Z"
    },
    "papermill": {
     "duration": 0.028053,
     "end_time": "2025-07-17T11:55:45.104009",
     "exception": false,
     "start_time": "2025-07-17T11:55:45.075956",
     "status": "completed"
    },
    "tags": []
   },
   "outputs": [
    {
     "name": "stdout",
     "output_type": "stream",
     "text": [
      "<class 'pandas.core.frame.DataFrame'>\n",
      "RangeIndex: 200 entries, 0 to 199\n",
      "Data columns (total 6 columns):\n",
      " #   Column       Non-Null Count  Dtype   \n",
      "---  ------       --------------  -----   \n",
      " 0   Age          200 non-null    category\n",
      " 1   Sex          200 non-null    object  \n",
      " 2   BP           200 non-null    object  \n",
      " 3   Cholesterol  200 non-null    object  \n",
      " 4   Na_to_K      200 non-null    float64 \n",
      " 5   Drug         200 non-null    object  \n",
      "dtypes: category(1), float64(1), object(4)\n",
      "memory usage: 8.3+ KB\n"
     ]
    }
   ],
   "source": [
    "df.info()"
   ]
  },
  {
   "cell_type": "markdown",
   "id": "32237d23",
   "metadata": {
    "papermill": {
     "duration": 0.013484,
     "end_time": "2025-07-17T11:55:45.131415",
     "exception": false,
     "start_time": "2025-07-17T11:55:45.117931",
     "status": "completed"
    },
    "tags": []
   },
   "source": [
    "****"
   ]
  },
  {
   "cell_type": "markdown",
   "id": "3f936634",
   "metadata": {
    "papermill": {
     "duration": 0.013223,
     "end_time": "2025-07-17T11:55:45.158238",
     "exception": false,
     "start_time": "2025-07-17T11:55:45.145015",
     "status": "completed"
    },
    "tags": []
   },
   "source": [
    "## Encoding "
   ]
  },
  {
   "cell_type": "markdown",
   "id": "9f092d5c",
   "metadata": {
    "papermill": {
     "duration": 0.013206,
     "end_time": "2025-07-17T11:55:45.184751",
     "exception": false,
     "start_time": "2025-07-17T11:55:45.171545",
     "status": "completed"
    },
    "tags": []
   },
   "source": [
    "**Age**\n",
    "* 0 -> young\n",
    "* 1 -> adult\n",
    "* 2 -> middle-aged\n",
    "* 3 -> old\n",
    "\n",
    "**Sex**\n",
    "* 0 -> F\n",
    "* 1 -> M\n",
    "\n",
    "**BP**\n",
    "* 0 -> HIGH\n",
    "* 1 -> LOW\n",
    "* 2 -> NORMAL\n",
    "\n",
    "**Cholesterol**\n",
    "* 0 -> HIGH\n",
    "* 1 -> NORMAL"
   ]
  },
  {
   "cell_type": "markdown",
   "id": "536edd47",
   "metadata": {
    "papermill": {
     "duration": 0.015258,
     "end_time": "2025-07-17T11:55:45.437651",
     "exception": false,
     "start_time": "2025-07-17T11:55:45.422393",
     "status": "completed"
    },
    "tags": []
   },
   "source": [
    "## **Scale data**"
   ]
  },
  {
   "cell_type": "markdown",
   "id": "83e6ae7a",
   "metadata": {
    "papermill": {
     "duration": 0.013082,
     "end_time": "2025-07-17T11:55:45.525274",
     "exception": false,
     "start_time": "2025-07-17T11:55:45.512192",
     "status": "completed"
    },
    "tags": []
   },
   "source": [
    "**Apply encode Technique**"
   ]
  },
  {
   "cell_type": "markdown",
   "id": "ebfc2dfa",
   "metadata": {
    "papermill": {
     "duration": 0.01383,
     "end_time": "2025-07-17T11:55:46.582946",
     "exception": false,
     "start_time": "2025-07-17T11:55:46.569116",
     "status": "completed"
    },
    "tags": []
   },
   "source": [
    "## ploting Decision tree"
   ]
  },
  {
   "cell_type": "code",
   "execution_count": 26,
   "id": "e4563e27",
   "metadata": {
    "execution": {
     "iopub.execute_input": "2025-07-17T11:55:46.613345Z",
     "iopub.status.busy": "2025-07-17T11:55:46.613027Z",
     "iopub.status.idle": "2025-07-17T11:55:46.993149Z",
     "shell.execute_reply": "2025-07-17T11:55:46.992287Z"
    },
    "papermill": {
     "duration": 0.397487,
     "end_time": "2025-07-17T11:55:46.994922",
     "exception": false,
     "start_time": "2025-07-17T11:55:46.597435",
     "status": "completed"
    },
    "tags": []
   },
   "outputs": [
    {
     "data": {
      "text/plain": [
       "[Text(0.625, 0.875, 'x[4] <= 0.388\\ngini = 0.68\\nsamples = 160\\nvalue = [76, 17, 13, 11, 43]'),\n",
       " Text(0.5, 0.625, 'x[2] <= 0.25\\ngini = 0.656\\nsamples = 84\\nvalue = [0, 17, 13, 11, 43]'),\n",
       " Text(0.25, 0.375, 'x[0] <= 0.833\\ngini = 0.491\\nsamples = 30\\nvalue = [0, 17, 13, 0, 0]'),\n",
       " Text(0.125, 0.125, 'gini = 0.105\\nsamples = 18\\nvalue = [0, 17, 1, 0, 0]'),\n",
       " Text(0.375, 0.125, 'gini = 0.0\\nsamples = 12\\nvalue = [0, 0, 12, 0, 0]'),\n",
       " Text(0.75, 0.375, 'x[2] <= 0.75\\ngini = 0.324\\nsamples = 54\\nvalue = [0, 0, 0, 11, 43]'),\n",
       " Text(0.625, 0.125, 'gini = 0.499\\nsamples = 23\\nvalue = [0, 0, 0, 11, 12]'),\n",
       " Text(0.875, 0.125, 'gini = 0.0\\nsamples = 31\\nvalue = [0, 0, 0, 0, 31]'),\n",
       " Text(0.75, 0.625, 'gini = 0.0\\nsamples = 76\\nvalue = [76, 0, 0, 0, 0]')]"
      ]
     },
     "execution_count": 26,
     "metadata": {},
     "output_type": "execute_result"
    },
    {
     "data": {
      "image/png": "[encoded data removed]",
      "text/plain": [
       "<Figure size 640x480 with 1 Axes>"
      ]
     },
     "metadata": {},
     "output_type": "display_data"
    }
   ],
   "source": [
    "from sklearn import tree\n",
    "tree.plot_tree(model, filled=True)\n"
   ]
  },
  {
   "cell_type": "markdown",
   "id": "f0419a51",
   "metadata": {
    "papermill": {
     "duration": 0.014439,
     "end_time": "2025-07-17T11:55:47.024547",
     "exception": false,
     "start_time": "2025-07-17T11:55:47.010108",
     "status": "completed"
    },
    "tags": []
   },
   "source": [
    "## Top 3 Performing Models by F1-Score"
   ]
  },
  {
   "cell_type": "code",
   "execution_count": 27,
   "id": "f948f9c5",
   "metadata": {
    "execution": {
     "iopub.execute_input": "2025-07-17T11:55:47.056726Z",
     "iopub.status.busy": "2025-07-17T11:55:47.055827Z",
     "iopub.status.idle": "2025-07-17T11:55:47.106379Z",
     "shell.execute_reply": "2025-07-17T11:55:47.105303Z"
    },
    "papermill": {
     "duration": 0.068278,
     "end_time": "2025-07-17T11:55:47.108027",
     "exception": false,
     "start_time": "2025-07-17T11:55:47.039749",
     "status": "completed"
    },
    "tags": []
   },
   "outputs": [
    {
     "name": "stdout",
     "output_type": "stream",
     "text": [
      "\n",
      "🔍 Classification Report for: Scaler = standard | Model = SVM\n",
      "              precision    recall  f1-score   support\n",
      "\n",
      "       DrugY       0.94      1.00      0.97        15\n",
      "       drugA       1.00      1.00      1.00         6\n",
      "       drugB       1.00      1.00      1.00         3\n",
      "       drugC       1.00      0.80      0.89         5\n",
      "       drugX       1.00      1.00      1.00        11\n",
      "\n",
      "    accuracy                           0.97        40\n",
      "   macro avg       0.99      0.96      0.97        40\n",
      "weighted avg       0.98      0.97      0.97        40\n",
      "\n",
      "\n",
      "🔍 Classification Report for: Scaler = robust | Model = SVM\n",
      "              precision    recall  f1-score   support\n",
      "\n",
      "       DrugY       0.94      1.00      0.97        15\n",
      "       drugA       1.00      1.00      1.00         6\n",
      "       drugB       1.00      1.00      1.00         3\n",
      "       drugC       1.00      0.80      0.89         5\n",
      "       drugX       1.00      1.00      1.00        11\n",
      "\n",
      "    accuracy                           0.97        40\n",
      "   macro avg       0.99      0.96      0.97        40\n",
      "weighted avg       0.98      0.97      0.97        40\n",
      "\n",
      "\n",
      "🔍 Classification Report for: Scaler = robust | Model = KNN\n",
      "              precision    recall  f1-score   support\n",
      "\n",
      "       DrugY       0.94      1.00      0.97        15\n",
      "       drugA       1.00      1.00      1.00         6\n",
      "       drugB       0.75      1.00      0.86         3\n",
      "       drugC       1.00      0.40      0.57         5\n",
      "       drugX       0.92      1.00      0.96        11\n",
      "\n",
      "    accuracy                           0.93        40\n",
      "   macro avg       0.92      0.88      0.87        40\n",
      "weighted avg       0.93      0.93      0.91        40\n",
      "\n"
     ]
    }
   ],
   "source": [
    "from sklearn.metrics import classification_report\n",
    "\n",
    "# get Top 3 by F1-score\n",
    "top_3 = results_df.sort_values(by='F1-Score', ascending=False).head(3)\n",
    "\n",
    "for _, row in top_3.iterrows():\n",
    "    scale_name = row['Scaler']\n",
    "    model_name = row['Model']\n",
    "    \n",
    "    scaler = scalers[scale_name]\n",
    "    model = models[model_name]\n",
    "\n",
    "\n",
    "    # Fit the scaler on training data and transform both train and test sets\n",
    "    X_train_s = scaler.fit_transform(X_train)\n",
    "    X_test_s = scaler.transform(X_test)\n",
    "\n",
    "    # Train the model\n",
    "    model.fit(X_train_s, y_train)\n",
    "\n",
    "    # Predict using the test set\n",
    "    y_pred = model.predict(X_test_s)\n",
    "\n",
    "    print(f\"\\n🔍 Classification Report for: Scaler = {scale_name} | Model = {model_name}\")\n",
    "    print(classification_report(y_test, y_pred))\n"
   ]
  }
 ],
 "metadata": {
  "kaggle": {
   "accelerator": "none",
   "dataSources": [
    {
     "datasetId": 830916,
     "sourceId": 1419436,
     "sourceType": "datasetVersion"
    }
   ],
   "dockerImageVersionId": 31089,
   "isGpuEnabled": false,
   "isInternetEnabled": true,
   "language": "python",
   "sourceType": "notebook"
  },
  "kernelspec": {
   "display_name": "Python 3 (ipykernel)",
   "language": "python",
   "name": "python3"
  },
  "language_info": {
   "codemirror_mode": {
    "name": "ipython",
    "version": 3
   },
   "file_extension": ".py",
   "mimetype": "text/x-python",
   "name": "python",
   "nbconvert_exporter": "python",
   "pygments_lexer": "ipython3",
   "version": "3.13.3"
  },
  "papermill": {
   "default_parameters": {},
   "duration": 14.070664,
   "end_time": "2025-07-17T11:55:47.843616",
   "environment_variables": {},
   "exception": null,
   "input_path": "__notebook__.ipynb",
   "output_path": "__notebook__.ipynb",
   "parameters": {},
   "start_time": "2025-07-17T11:55:33.772952",
   "version": "2.6.0"
  }
 },
 "nbformat": 4,
 "nbformat_minor": 5
}
